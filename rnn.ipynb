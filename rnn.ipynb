{
  "nbformat": 4,
  "nbformat_minor": 0,
  "metadata": {
    "colab": {
      "name": "rnn.ipynb",
      "provenance": [],
      "collapsed_sections": [],
      "include_colab_link": true
    },
    "kernelspec": {
      "name": "python3",
      "display_name": "Python 3"
    }
  },
  "cells": [
    {
      "cell_type": "markdown",
      "metadata": {
        "id": "view-in-github",
        "colab_type": "text"
      },
      "source": [
        "<a href=\"https://colab.research.google.com/github/xxcramseyxx/RNN/blob/main/rnn.ipynb\" target=\"_parent\"><img src=\"https://colab.research.google.com/assets/colab-badge.svg\" alt=\"Open In Colab\"/></a>"
      ]
    },
    {
      "cell_type": "markdown",
      "metadata": {
        "id": "xpAuMVCwfWs8"
      },
      "source": [
        "# Recurrent Neural Network"
      ]
    },
    {
      "cell_type": "markdown",
      "metadata": {
        "id": "nxJfRe4bfYVA"
      },
      "source": [
        "## Part 1 - Data Preprocessing"
      ]
    },
    {
      "cell_type": "markdown",
      "metadata": {
        "id": "ir9zwETrfbrp"
      },
      "source": [
        "### Importing the libraries"
      ]
    },
    {
      "cell_type": "code",
      "metadata": {
        "id": "ZT1f24vHffuf"
      },
      "source": [
        "import pandas as pd\n",
        "import numpy as np\n",
        "import matplotlib.pyplot as plt"
      ],
      "execution_count": null,
      "outputs": []
    },
    {
      "cell_type": "markdown",
      "metadata": {
        "id": "nQ47JAxrgmaL"
      },
      "source": [
        "### Importing the training set"
      ]
    },
    {
      "cell_type": "code",
      "metadata": {
        "id": "1xiv3pJOgqY3"
      },
      "source": [
        "df = pd.read_csv('/content/Google_Stock_Price_Train.csv')\n",
        "X = df.iloc[:, 1:2].values"
      ],
      "execution_count": null,
      "outputs": []
    },
    {
      "cell_type": "code",
      "metadata": {
        "id": "B9AMpT7M7OYp",
        "colab": {
          "base_uri": "https://localhost:8080/",
          "height": 136
        },
        "outputId": "0ca6b6ec-4fe1-4d0d-912b-2475ccf033a3"
      },
      "source": [
        "print(X)"
      ],
      "execution_count": null,
      "outputs": [
        {
          "output_type": "stream",
          "text": [
            "[[325.25]\n",
            " [331.27]\n",
            " [329.83]\n",
            " ...\n",
            " [793.7 ]\n",
            " [783.33]\n",
            " [782.75]]\n"
          ],
          "name": "stdout"
        }
      ]
    },
    {
      "cell_type": "markdown",
      "metadata": {
        "id": "HT8_2UJegtG5"
      },
      "source": [
        "### Feature Scaling"
      ]
    },
    {
      "cell_type": "code",
      "metadata": {
        "id": "OTrF2kR7gx9x"
      },
      "source": [
        "from sklearn.preprocessing import MinMaxScaler\n",
        "sc = MinMaxScaler(feature_range=(0,1))\n",
        "training_set_scaled = sc.fit_transform(X)"
      ],
      "execution_count": null,
      "outputs": []
    },
    {
      "cell_type": "code",
      "metadata": {
        "id": "kH-I8XgI6XDL",
        "colab": {
          "base_uri": "https://localhost:8080/",
          "height": 136
        },
        "outputId": "87f01963-81b0-4264-9185-1e0a21cf668f"
      },
      "source": [
        "print(training_set_scaled)"
      ],
      "execution_count": null,
      "outputs": [
        {
          "output_type": "stream",
          "text": [
            "[[0.08581368]\n",
            " [0.09701243]\n",
            " [0.09433366]\n",
            " ...\n",
            " [0.95725128]\n",
            " [0.93796041]\n",
            " [0.93688146]]\n"
          ],
          "name": "stdout"
        }
      ]
    },
    {
      "cell_type": "markdown",
      "metadata": {
        "id": "JyYgYocqhNUg"
      },
      "source": [
        "### Creating a data structure with 60 timesteps and 1 output aka 3 months\n"
      ]
    },
    {
      "cell_type": "code",
      "metadata": {
        "id": "iofU21B0i6ST"
      },
      "source": [
        "X_train = []\n",
        "y_train = []\n",
        "for i in range(120, 1258):\n",
        "  X_train.append(training_set_scaled[i-120:i, 0])\n",
        "  y_train.append(training_set_scaled[i, 0])\n",
        "X_train, y_train = np.array(X_train), np.array(y_train)"
      ],
      "execution_count": null,
      "outputs": []
    },
    {
      "cell_type": "markdown",
      "metadata": {
        "id": "gzHZRot_Cqjn"
      },
      "source": [
        ""
      ]
    },
    {
      "cell_type": "markdown",
      "metadata": {
        "id": "D8yaN7Zvi95l"
      },
      "source": [
        "### Reshaping"
      ]
    },
    {
      "cell_type": "code",
      "metadata": {
        "id": "FOXqJHmNjBkz"
      },
      "source": [
        "X_train = np.reshape(X_train,(X_train.shape[0],X_train.shape[1],1)) # X_train.shape[1]=timesteps,  last 1 is the predictor"
      ],
      "execution_count": null,
      "outputs": []
    },
    {
      "cell_type": "code",
      "metadata": {
        "id": "fv3CLLg_lIqb"
      },
      "source": [
        "print(X_train)"
      ],
      "execution_count": null,
      "outputs": []
    },
    {
      "cell_type": "markdown",
      "metadata": {
        "id": "ZRRSOJeVjEWV"
      },
      "source": [
        "## Part 2 - Building and Training the RNN"
      ]
    },
    {
      "cell_type": "markdown",
      "metadata": {
        "id": "k4XV88JMjHXG"
      },
      "source": [
        "### Importing the Keras libraries and packages"
      ]
    },
    {
      "cell_type": "code",
      "metadata": {
        "id": "9JRnqsxEjKsD"
      },
      "source": [
        "from keras.models import Sequential\n",
        "from keras.layers import Dense\n",
        "from keras.layers import LSTM\n",
        "from keras.layers import Dropout"
      ],
      "execution_count": null,
      "outputs": []
    },
    {
      "cell_type": "markdown",
      "metadata": {
        "id": "FEIE-1s9jNzC"
      },
      "source": [
        "### Initialising the RNN"
      ]
    },
    {
      "cell_type": "code",
      "metadata": {
        "id": "1338dJ0UjRKH"
      },
      "source": [
        "regressor = Sequential()\n"
      ],
      "execution_count": null,
      "outputs": []
    },
    {
      "cell_type": "markdown",
      "metadata": {
        "id": "62eg1OPGjT8z"
      },
      "source": [
        "### Adding the first LSTM layer and some Dropout regularisation"
      ]
    },
    {
      "cell_type": "code",
      "metadata": {
        "id": "2hIinyXUjbVU"
      },
      "source": [
        "regressor.add(LSTM(units = 64, return_sequences = True, input_shape = (X_train.shape[1],1))) #number of units(neurons),return sequences, input shape\n",
        "regressor.add(Dropout(0.2)) #dropout arg = dropout rate"
      ],
      "execution_count": null,
      "outputs": []
    },
    {
      "cell_type": "markdown",
      "metadata": {
        "id": "3XBIYLyOjlMx"
      },
      "source": [
        "### Adding a second LSTM layer and some Dropout regularisation"
      ]
    },
    {
      "cell_type": "code",
      "metadata": {
        "id": "UG7nrVaSjuZ2"
      },
      "source": [
        "regressor.add(LSTM(units = 72, return_sequences = True)) #number of units(neurons),return sequences\n",
        "regressor.add(Dropout(0.2)) #dropout arg = dropout rate"
      ],
      "execution_count": null,
      "outputs": []
    },
    {
      "cell_type": "markdown",
      "metadata": {
        "id": "Ey3fHVnGj1cu"
      },
      "source": [
        "### Adding a third LSTM layer and some Dropout regularisation"
      ]
    },
    {
      "cell_type": "code",
      "metadata": {
        "id": "PuNi6PgFj7jO"
      },
      "source": [
        "regressor.add(LSTM(units = 64, return_sequences = True)) #number of units(neurons),return sequences\n",
        "regressor.add(Dropout(0.2)) #dropout arg = dropout rate"
      ],
      "execution_count": null,
      "outputs": []
    },
    {
      "cell_type": "markdown",
      "metadata": {
        "id": "SYTrtfTmj933"
      },
      "source": [
        "### Adding a fourth LSTM layer and some Dropout regularisation"
      ]
    },
    {
      "cell_type": "code",
      "metadata": {
        "id": "Jp4Ty8fRkBYV"
      },
      "source": [
        "regressor.add(LSTM(units = 32)) #number of units(neurons),return sequences = false (so remove)\n",
        "regressor.add(Dropout(0.2)) #dropout arg = dropout rate"
      ],
      "execution_count": null,
      "outputs": []
    },
    {
      "cell_type": "markdown",
      "metadata": {
        "id": "9ABI6rOIkHhk"
      },
      "source": [
        "### Adding the output layer"
      ]
    },
    {
      "cell_type": "code",
      "metadata": {
        "id": "aM6R1z4WkME8"
      },
      "source": [
        "regressor.add(Dense(units = 1))"
      ],
      "execution_count": null,
      "outputs": []
    },
    {
      "cell_type": "markdown",
      "metadata": {
        "id": "zLx4K7uUkPSh"
      },
      "source": [
        "### Compiling the RNN"
      ]
    },
    {
      "cell_type": "code",
      "metadata": {
        "id": "XTrhVN-tkbko"
      },
      "source": [
        "regressor.compile(optimizer= 'adam', loss = 'mean_squared_error')"
      ],
      "execution_count": null,
      "outputs": []
    },
    {
      "cell_type": "markdown",
      "metadata": {
        "id": "-mPhwKGkkebi"
      },
      "source": [
        "### Fitting the RNN to the Training set"
      ]
    },
    {
      "cell_type": "code",
      "metadata": {
        "id": "I06Nkrz5kkb-",
        "colab": {
          "base_uri": "https://localhost:8080/",
          "height": 1000
        },
        "outputId": "6c50e427-6922-48fa-8fa5-76a56bb4f299"
      },
      "source": [
        "regressor.fit(X_train, y_train, epochs = 100, batch_size = 32)"
      ],
      "execution_count": null,
      "outputs": [
        {
          "output_type": "stream",
          "text": [
            "Epoch 1/100\n",
            "36/36 [==============================] - 8s 221ms/step - loss: 0.0345\n",
            "Epoch 2/100\n",
            "36/36 [==============================] - 8s 231ms/step - loss: 0.0066\n",
            "Epoch 3/100\n",
            "36/36 [==============================] - 8s 218ms/step - loss: 0.0065\n",
            "Epoch 4/100\n",
            "36/36 [==============================] - 8s 218ms/step - loss: 0.0053\n",
            "Epoch 5/100\n",
            "36/36 [==============================] - 8s 217ms/step - loss: 0.0056\n",
            "Epoch 6/100\n",
            "36/36 [==============================] - 8s 218ms/step - loss: 0.0062\n",
            "Epoch 7/100\n",
            "36/36 [==============================] - 8s 218ms/step - loss: 0.0056\n",
            "Epoch 8/100\n",
            "36/36 [==============================] - 8s 220ms/step - loss: 0.0046\n",
            "Epoch 9/100\n",
            "36/36 [==============================] - 8s 219ms/step - loss: 0.0050\n",
            "Epoch 10/100\n",
            "36/36 [==============================] - 8s 218ms/step - loss: 0.0046\n",
            "Epoch 11/100\n",
            "36/36 [==============================] - 8s 220ms/step - loss: 0.0047\n",
            "Epoch 12/100\n",
            "36/36 [==============================] - 8s 221ms/step - loss: 0.0041\n",
            "Epoch 13/100\n",
            "36/36 [==============================] - 8s 221ms/step - loss: 0.0042\n",
            "Epoch 14/100\n",
            "36/36 [==============================] - 8s 221ms/step - loss: 0.0039\n",
            "Epoch 15/100\n",
            "36/36 [==============================] - 8s 223ms/step - loss: 0.0035\n",
            "Epoch 16/100\n",
            "36/36 [==============================] - 8s 221ms/step - loss: 0.0041\n",
            "Epoch 17/100\n",
            "36/36 [==============================] - 8s 219ms/step - loss: 0.0053\n",
            "Epoch 18/100\n",
            "36/36 [==============================] - 8s 222ms/step - loss: 0.0039\n",
            "Epoch 19/100\n",
            "36/36 [==============================] - 8s 225ms/step - loss: 0.0035\n",
            "Epoch 20/100\n",
            "36/36 [==============================] - 8s 223ms/step - loss: 0.0041\n",
            "Epoch 21/100\n",
            "36/36 [==============================] - 8s 221ms/step - loss: 0.0033\n",
            "Epoch 22/100\n",
            "36/36 [==============================] - 8s 220ms/step - loss: 0.0033\n",
            "Epoch 23/100\n",
            "36/36 [==============================] - 8s 222ms/step - loss: 0.0036\n",
            "Epoch 24/100\n",
            "36/36 [==============================] - 8s 221ms/step - loss: 0.0033\n",
            "Epoch 25/100\n",
            "36/36 [==============================] - 8s 225ms/step - loss: 0.0034\n",
            "Epoch 26/100\n",
            "36/36 [==============================] - 8s 227ms/step - loss: 0.0033\n",
            "Epoch 27/100\n",
            "36/36 [==============================] - 8s 227ms/step - loss: 0.0032\n",
            "Epoch 28/100\n",
            "36/36 [==============================] - 8s 225ms/step - loss: 0.0031\n",
            "Epoch 29/100\n",
            "36/36 [==============================] - 8s 225ms/step - loss: 0.0033\n",
            "Epoch 30/100\n",
            "36/36 [==============================] - 8s 227ms/step - loss: 0.0032\n",
            "Epoch 31/100\n",
            "36/36 [==============================] - 8s 227ms/step - loss: 0.0031\n",
            "Epoch 32/100\n",
            "36/36 [==============================] - 8s 226ms/step - loss: 0.0030\n",
            "Epoch 33/100\n",
            "36/36 [==============================] - 8s 226ms/step - loss: 0.0035\n",
            "Epoch 34/100\n",
            "36/36 [==============================] - 8s 228ms/step - loss: 0.0033\n",
            "Epoch 35/100\n",
            "36/36 [==============================] - 8s 227ms/step - loss: 0.0028\n",
            "Epoch 36/100\n",
            "36/36 [==============================] - 9s 239ms/step - loss: 0.0030\n",
            "Epoch 37/100\n",
            "36/36 [==============================] - 8s 228ms/step - loss: 0.0032\n",
            "Epoch 38/100\n",
            "36/36 [==============================] - 8s 232ms/step - loss: 0.0031\n",
            "Epoch 39/100\n",
            "36/36 [==============================] - 9s 241ms/step - loss: 0.0028\n",
            "Epoch 40/100\n",
            "36/36 [==============================] - 9s 241ms/step - loss: 0.0030\n",
            "Epoch 41/100\n",
            "36/36 [==============================] - 8s 231ms/step - loss: 0.0026\n",
            "Epoch 42/100\n",
            "36/36 [==============================] - 8s 231ms/step - loss: 0.0037\n",
            "Epoch 43/100\n",
            "36/36 [==============================] - 8s 230ms/step - loss: 0.0028\n",
            "Epoch 44/100\n",
            "36/36 [==============================] - 8s 230ms/step - loss: 0.0025\n",
            "Epoch 45/100\n",
            "36/36 [==============================] - 8s 231ms/step - loss: 0.0025\n",
            "Epoch 46/100\n",
            "36/36 [==============================] - 8s 231ms/step - loss: 0.0025\n",
            "Epoch 47/100\n",
            "36/36 [==============================] - 8s 230ms/step - loss: 0.0029\n",
            "Epoch 48/100\n",
            "36/36 [==============================] - 8s 232ms/step - loss: 0.0027\n",
            "Epoch 49/100\n",
            "36/36 [==============================] - 8s 232ms/step - loss: 0.0024\n",
            "Epoch 50/100\n",
            "36/36 [==============================] - 8s 233ms/step - loss: 0.0027\n",
            "Epoch 51/100\n",
            "36/36 [==============================] - 8s 230ms/step - loss: 0.0023\n",
            "Epoch 52/100\n",
            "36/36 [==============================] - 8s 232ms/step - loss: 0.0025\n",
            "Epoch 53/100\n",
            "36/36 [==============================] - 8s 230ms/step - loss: 0.0022\n",
            "Epoch 54/100\n",
            "36/36 [==============================] - 8s 231ms/step - loss: 0.0023\n",
            "Epoch 55/100\n",
            "36/36 [==============================] - 8s 230ms/step - loss: 0.0023\n",
            "Epoch 56/100\n",
            "36/36 [==============================] - 8s 231ms/step - loss: 0.0024\n",
            "Epoch 57/100\n",
            "36/36 [==============================] - 8s 232ms/step - loss: 0.0022\n",
            "Epoch 58/100\n",
            "36/36 [==============================] - 8s 232ms/step - loss: 0.0023\n",
            "Epoch 59/100\n",
            "36/36 [==============================] - 8s 231ms/step - loss: 0.0023\n",
            "Epoch 60/100\n",
            "36/36 [==============================] - 8s 230ms/step - loss: 0.0024\n",
            "Epoch 61/100\n",
            "36/36 [==============================] - 8s 231ms/step - loss: 0.0022\n",
            "Epoch 62/100\n",
            "36/36 [==============================] - 8s 231ms/step - loss: 0.0022\n",
            "Epoch 63/100\n",
            "36/36 [==============================] - 8s 233ms/step - loss: 0.0020\n",
            "Epoch 64/100\n",
            "36/36 [==============================] - 8s 233ms/step - loss: 0.0022\n",
            "Epoch 65/100\n",
            "36/36 [==============================] - 8s 232ms/step - loss: 0.0020\n",
            "Epoch 66/100\n",
            "36/36 [==============================] - 8s 232ms/step - loss: 0.0020\n",
            "Epoch 67/100\n",
            "36/36 [==============================] - 8s 233ms/step - loss: 0.0017\n",
            "Epoch 68/100\n",
            "36/36 [==============================] - 8s 234ms/step - loss: 0.0022\n",
            "Epoch 69/100\n",
            "36/36 [==============================] - 8s 233ms/step - loss: 0.0020\n",
            "Epoch 70/100\n",
            "36/36 [==============================] - 8s 233ms/step - loss: 0.0021\n",
            "Epoch 71/100\n",
            "36/36 [==============================] - 8s 236ms/step - loss: 0.0019\n",
            "Epoch 72/100\n",
            "36/36 [==============================] - 9s 238ms/step - loss: 0.0019\n",
            "Epoch 73/100\n",
            "36/36 [==============================] - 8s 233ms/step - loss: 0.0018\n",
            "Epoch 74/100\n",
            "36/36 [==============================] - 8s 233ms/step - loss: 0.0019\n",
            "Epoch 75/100\n",
            "36/36 [==============================] - 9s 240ms/step - loss: 0.0019\n",
            "Epoch 76/100\n",
            "36/36 [==============================] - 9s 246ms/step - loss: 0.0022\n",
            "Epoch 77/100\n",
            "36/36 [==============================] - 8s 233ms/step - loss: 0.0019\n",
            "Epoch 78/100\n",
            "36/36 [==============================] - 8s 232ms/step - loss: 0.0018\n",
            "Epoch 79/100\n",
            "36/36 [==============================] - 8s 232ms/step - loss: 0.0018\n",
            "Epoch 80/100\n",
            "36/36 [==============================] - 8s 233ms/step - loss: 0.0016\n",
            "Epoch 81/100\n",
            "36/36 [==============================] - 8s 232ms/step - loss: 0.0017\n",
            "Epoch 82/100\n",
            "36/36 [==============================] - 8s 232ms/step - loss: 0.0017\n",
            "Epoch 83/100\n",
            "36/36 [==============================] - 8s 233ms/step - loss: 0.0017\n",
            "Epoch 84/100\n",
            "36/36 [==============================] - 8s 234ms/step - loss: 0.0019\n",
            "Epoch 85/100\n",
            "36/36 [==============================] - 8s 234ms/step - loss: 0.0016\n",
            "Epoch 86/100\n",
            "36/36 [==============================] - 8s 235ms/step - loss: 0.0015\n",
            "Epoch 87/100\n",
            "36/36 [==============================] - 8s 235ms/step - loss: 0.0016\n",
            "Epoch 88/100\n",
            "36/36 [==============================] - 8s 234ms/step - loss: 0.0016\n",
            "Epoch 89/100\n",
            "36/36 [==============================] - 8s 236ms/step - loss: 0.0017\n",
            "Epoch 90/100\n",
            "36/36 [==============================] - 8s 236ms/step - loss: 0.0018\n",
            "Epoch 91/100\n",
            "36/36 [==============================] - 8s 235ms/step - loss: 0.0016\n",
            "Epoch 92/100\n",
            "36/36 [==============================] - 8s 236ms/step - loss: 0.0016\n",
            "Epoch 93/100\n",
            "36/36 [==============================] - 9s 236ms/step - loss: 0.0016\n",
            "Epoch 94/100\n",
            "36/36 [==============================] - 8s 235ms/step - loss: 0.0015\n",
            "Epoch 95/100\n",
            "36/36 [==============================] - 8s 235ms/step - loss: 0.0014\n",
            "Epoch 96/100\n",
            "36/36 [==============================] - 8s 235ms/step - loss: 0.0013\n",
            "Epoch 97/100\n",
            "36/36 [==============================] - 8s 235ms/step - loss: 0.0015\n",
            "Epoch 98/100\n",
            "36/36 [==============================] - 8s 235ms/step - loss: 0.0017\n",
            "Epoch 99/100\n",
            "36/36 [==============================] - 8s 235ms/step - loss: 0.0014\n",
            "Epoch 100/100\n",
            "36/36 [==============================] - 8s 235ms/step - loss: 0.0016\n"
          ],
          "name": "stdout"
        },
        {
          "output_type": "execute_result",
          "data": {
            "text/plain": [
              "<tensorflow.python.keras.callbacks.History at 0x7f532e78ceb8>"
            ]
          },
          "metadata": {
            "tags": []
          },
          "execution_count": 71
        }
      ]
    },
    {
      "cell_type": "markdown",
      "metadata": {
        "id": "4hRau_lIkrE8"
      },
      "source": [
        "## Part 3 - Making the predictions and visualising the results"
      ]
    },
    {
      "cell_type": "markdown",
      "metadata": {
        "id": "SgJO6qEDksxD"
      },
      "source": [
        "### Getting the real stock price of 2017"
      ]
    },
    {
      "cell_type": "code",
      "metadata": {
        "id": "FmBT2zqukxTz"
      },
      "source": [
        "df_test = pd.read_csv('/content/Google_Stock_Price_Test.csv')\n",
        "y = df_test.iloc[:, 1:2].values"
      ],
      "execution_count": null,
      "outputs": []
    },
    {
      "cell_type": "markdown",
      "metadata": {
        "id": "GrvrLblxkz42"
      },
      "source": [
        "### Getting the predicted stock price of 2017"
      ]
    },
    {
      "cell_type": "code",
      "metadata": {
        "id": "emikTvUpk3Ck"
      },
      "source": [
        "df_total = pd.concat((df['Open'],df_test['Open']), axis = 0)\n",
        "inputs = df_total[len(df)- len(df_test)- 120: ].values\n",
        "inputs = inputs.reshape(-1,1)\n",
        "inputs = sc.transform(inputs)\n",
        "X_test = []\n",
        "for i in range(120, 140):\n",
        "  X_test.append(inputs[i-120:i, 0])\n",
        "X_test = np.array(X_test)\n",
        "X_test = np.reshape(X_test,(X_test.shape[0],X_test.shape[1],1)) # X_train.shape[1]=timesteps,  last 1 is the predictor\n",
        "predicted_stock_price = regressor.predict(X_test)\n",
        "predicted_stock_price = sc.inverse_transform(predicted_stock_price)"
      ],
      "execution_count": null,
      "outputs": []
    },
    {
      "cell_type": "code",
      "metadata": {
        "id": "nNOFEPcNEZme",
        "colab": {
          "base_uri": "https://localhost:8080/",
          "height": 357
        },
        "outputId": "50f12f6e-61a7-4a56-a28c-d7f0e2934d62"
      },
      "source": [
        "print(predicted_stock_price)"
      ],
      "execution_count": null,
      "outputs": [
        {
          "output_type": "stream",
          "text": [
            "[[762.5002 ]\n",
            " [757.9234 ]\n",
            " [754.32245]\n",
            " [754.41205]\n",
            " [756.42126]\n",
            " [760.52344]\n",
            " [766.2304 ]\n",
            " [772.22363]\n",
            " [778.2284 ]\n",
            " [783.3555 ]\n",
            " [786.54083]\n",
            " [788.31287]\n",
            " [787.21735]\n",
            " [785.91077]\n",
            " [785.36975]\n",
            " [785.06116]\n",
            " [784.7173 ]\n",
            " [784.5138 ]\n",
            " [785.17206]\n",
            " [784.49066]]\n"
          ],
          "name": "stdout"
        }
      ]
    },
    {
      "cell_type": "markdown",
      "metadata": {
        "id": "iFTNs3YHk6FQ"
      },
      "source": [
        "### Visualising the results"
      ]
    },
    {
      "cell_type": "code",
      "metadata": {
        "id": "8OUI8U49k9tH",
        "colab": {
          "base_uri": "https://localhost:8080/",
          "height": 295
        },
        "outputId": "5d8bdeea-0b0d-4ecf-f749-e77eaa1a1e6e"
      },
      "source": [
        "plt.plot(y, color = 'red', label = 'Real Google Stock Price')\n",
        "plt.plot(predicted_stock_price, color = 'blue', label = 'Predicted Google Stock Price')\n",
        "plt.title('Google Stock Price Prediction')\n",
        "plt.xlabel('Time')\n",
        "plt.ylabel('Google Stock Price')\n",
        "plt.legend()\n",
        "plt.show()"
      ],
      "execution_count": null,
      "outputs": [
        {
          "output_type": "display_data",
          "data": {
            "image/png": "[encoded data removed]",
            "text/plain": [
              "<Figure size 432x288 with 1 Axes>"
            ]
          },
          "metadata": {
            "tags": [],
            "needs_background": "light"
          }
        }
      ]
    }
  ]
}